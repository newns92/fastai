{
 "cells": [
  {
   "cell_type": "markdown",
   "metadata": {},
   "source": [
    "# Lesson 1: Convolutional Neural Networks\n",
    "\n",
    "This lesson will utilize convolutional neural networks (CNN's) to do some \"computer vision\".\n",
    "\n",
    "We will create a model to use on the dataset from the **[Dogs vs. Cats](https://www.kaggle.com/c/dogs-vs-cats)** competition from [Kaggle.com](https://www.kaggle.com/) that is trained on 25,000 labelled images of dogs and cats to test on 12,500 images. If you can beat 80%, you'll beat what was \"state of the art\" in 2013."
   ]
  },
  {
   "cell_type": "code",
   "execution_count": 1,
   "metadata": {
    "collapsed": true
   },
   "outputs": [],
   "source": [
    "# show plots in notebook\n",
    "%matplotlib inline\n",
    "\n",
    "# define path to training data and sample data\n",
    "path = \"data/dogscats\"\n",
    "sample_path = \"data/dogscat/sample\"\n",
    "\n",
    "# import libraries\n",
    "from __future__ import division, print_function\n",
    "\n",
    "import os, json\n",
    "from glob import glob\n",
    "import numpy as np # linear algebra and data analysis\n",
    "np.set_printoptions(precision = 4, linewidth = 100)\n",
    "from matplotlib import pyplot as plt"
   ]
  },
  {
   "cell_type": "code",
   "execution_count": null,
   "metadata": {},
   "outputs": [],
   "source": [
    "## if on local machine, make sure cPickle is installed with 'conda install bcolz'\n",
    "## then update import cPickle in utils.py to import pickle\n",
    "\n",
    "# import custom file to store any convenience functions\n",
    "import utils; reload(utils) # reload() to add any changes made to utils.py\n",
    "from utils import plots"
   ]
  },
  {
   "cell_type": "markdown",
   "metadata": {},
   "source": [
    "# Use a pretrained VGG model with own custom Vgg16 class\n",
    "\n",
    "We will use a fully-created model that recognizes a wide variety (~1000 categories) of images. **VGG** is one such model, which won the 2014 Imagenet competition. It is also a simple model to create and understand. The VGG Imagenet team created both a larger and slower but slightly more accurate model (*VGG 19*) and a smaller and faster but slightly less accurate model (*VGG 16*). VGG 16 is what we're using since the slower performance of VGG 19 is not worth the very minor improvement in accuracy. \n",
    "\n",
    "We will utilize the VGG 16 model via a custom *Vgg16* Python class."
   ]
  },
  {
   "cell_type": "code",
   "execution_count": null,
   "metadata": {
    "collapsed": true
   },
   "outputs": [],
   "source": []
  }
 ],
 "metadata": {
  "kernelspec": {
   "display_name": "Python 3",
   "language": "python",
   "name": "python3"
  },
  "language_info": {
   "codemirror_mode": {
    "name": "ipython",
    "version": 3
   },
   "file_extension": ".py",
   "mimetype": "text/x-python",
   "name": "python",
   "nbconvert_exporter": "python",
   "pygments_lexer": "ipython3",
   "version": "3.6.3"
  }
 },
 "nbformat": 4,
 "nbformat_minor": 2
}
