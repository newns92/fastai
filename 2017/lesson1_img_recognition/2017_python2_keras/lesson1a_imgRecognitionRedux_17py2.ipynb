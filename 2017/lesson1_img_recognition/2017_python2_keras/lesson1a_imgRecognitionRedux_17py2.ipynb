version https://git-lfs.github.com/spec/v1
oid sha256:13abc1de213757025dc4c6e87892be3b78001e54facc9c1411d697a0a1ccfd20
size 3483319
