version https://git-lfs.github.com/spec/v1
oid sha256:0d3e747338ab2be84da660389ec7c1486a6a04996d65be102f76e315651259aa
size 2822297
