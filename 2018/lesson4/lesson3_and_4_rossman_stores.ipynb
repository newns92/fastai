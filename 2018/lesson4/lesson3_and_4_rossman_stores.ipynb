version https://git-lfs.github.com/spec/v1
oid sha256:983e831ca271300503828ce2028d42a705860616f063259506ff14cfcb1c7adf
size 268910
