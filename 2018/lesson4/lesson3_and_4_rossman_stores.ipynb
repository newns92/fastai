version https://git-lfs.github.com/spec/v1
oid sha256:2b10d34f6c68fc7b3539355abf47a80816055c11153dc5ee78b65f1d49dc41b9
size 108640
