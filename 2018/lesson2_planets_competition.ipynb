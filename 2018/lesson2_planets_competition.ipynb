version https://git-lfs.github.com/spec/v1
oid sha256:612203e98a4902ae43b99222fc6e757f278bf81454da1d0e5c2cd80c75a2775b
size 2890935
