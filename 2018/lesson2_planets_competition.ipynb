version https://git-lfs.github.com/spec/v1
oid sha256:dbf75b9f7084bb11558ff6abcc56bf8030cf55df601347c1966870db0df05dc1
size 6123469
