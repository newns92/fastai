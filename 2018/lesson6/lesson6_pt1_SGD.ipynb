version https://git-lfs.github.com/spec/v1
oid sha256:5bd3513de64d2ccd82b2def81704a7674dc298a3b9a880ebcf6d7b827fbb18d4
size 63867
