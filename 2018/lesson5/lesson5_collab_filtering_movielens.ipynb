version https://git-lfs.github.com/spec/v1
oid sha256:7c14b38401fc2b188901f6e80aa5bc68b36140e700668b02a35f739e48edaa14
size 326490
